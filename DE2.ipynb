{
 "cells": [
  {
   "cell_type": "markdown",
   "metadata": {},
   "source": [
    "JDE\n",
    "$$\n",
    "F_{i,G+1}=\n",
    "\\begin{cases}\n",
    "F_l+rand_1*F_u, &if\\ rand_2\\lt \\tau_1\\\\\n",
    "F_{i,G}, &otherwise\n",
    "\\end{cases}\n",
    "$$\n",
    "$$\n",
    "CR_{i,G+1}=\n",
    "\\begin{cases}\n",
    "rand_3, &if\\ rand_4\\lt \\tau_2\\\\\n",
    "CR_{i,G}, &otherwise\n",
    "\\end{cases}\n",
    "$$\n",
    "$$rand_j\\in[0,1],\\tau_1=\\tau_2=0.1,F_l=0.1,F_u=0.9$$"
   ]
  },
  {
   "cell_type": "code",
   "execution_count": 6,
   "metadata": {},
   "outputs": [],
   "source": [
    "import numpy as np\n",
    "import matplotlib.pyplot as plt\n",
    "import datetime\n",
    "def jde(fobj, bounds, mut=0.5, cr=0.9, popsize=20, its=1000, goal = 0):\n",
    "    dimensions = len(bounds)\n",
    "    pop = np.random.rand(popsize, dimensions)\n",
    "    min_b, max_b = np.asarray(bounds).T\n",
    "    diff = np.fabs(min_b - max_b)\n",
    "    population = min_b + pop * diff\n",
    "    fitness = np.asarray([fobj(ind) for ind in population])\n",
    "    best_idx = np.argmin(fitness)\n",
    "    best = population[best_idx]\n",
    "    for i in range(its):\n",
    "        for j in range(popsize):\n",
    "            idxs = [idx for idx in range(popsize) if idx != j]\n",
    "            a, b, c = population[np.random.choice(idxs, 3, replace = False)]\n",
    "            mutant = np.clip(a + mut * (b - c), min_b, max_b)\n",
    "            cross_points = np.random.rand(dimensions) < cr\n",
    "            randj = np.random.rand(4)\n",
    "            if randj[0]<0.1:\n",
    "                mut = 0.1+randj[1]*0.9\n",
    "            if randj[2]<0.1:\n",
    "                crossp = randj[3]\n",
    "            if not np.any(cross_points):\n",
    "                cross_points[np.random.randint(0, dimensions)] = True\n",
    "            trial = np.where(cross_points, mutant, population[j])\n",
    "            f = fobj(trial)\n",
    "            if f < fitness[j]:\n",
    "                fitness[j] = f\n",
    "                population[j] = trial\n",
    "                if f < fitness[best_idx]:\n",
    "                    best_idx = j\n",
    "                    best = trial  \n",
    "        if(np.fabs(min(fitness) - goal) < 1e-6):\n",
    "            break\n",
    "        yield best, fitness[best_idx]"
   ]
  },
  {
   "cell_type": "markdown",
   "metadata": {},
   "source": [
    "SaDE策略池中四个策略,rand_1,rand_to_best_2,rand_2,current_to_rand_1\n",
    "开始每个策略被选择的概率相等,在每一代对于每个策略都考虑使用这个策略生成的变异向量,这些变异向量进入下一次迭代的数量记为$ns_{k,G}$,反之记为$nf_{k,G}$,这样记录LP代，LP称为学习期。LP溢出时就删除最早的记录，将最新生成的数字再填写进去。于是再最初的LP代之后将基于成功和失败记忆在之后的每代更新选择不同策略的概率。"
   ]
  },
  {
   "cell_type": "markdown",
   "metadata": {},
   "source": [
    "首先在前LP代，对于NP个个体其中一个，生成一个随机数，由随机数确定采用什么变异策略（每种策略被选择的概率暂时相等）。然后根据选择的策略执行相应的变异函数（选择几个其他个体或最优个体进行变异操作）得到变异个体，之后交叉，判断能否进入下一次迭代，记录进成功或失败表格。\n",
    "在LP代之后，选择某个变异策略的概率每代都会变化，这个变化根据成功和失败的两个表格得出。（表格记得清零），然后更新表格。（取余LP）"
   ]
  },
  {
   "cell_type": "code",
   "execution_count": 5,
   "metadata": {},
   "outputs": [],
   "source": [
    "import numpy as np\n",
    "import pandas as pd\n",
    "import random\n",
    "import matplotlib.pyplot as plt\n",
    "\n",
    "\n",
    "def sade(fobj, bounds, mut=0.5, cr=0.5, popsize=20, its=1000, goal = 0):\n",
    "    dimensions = len(bounds)\n",
    "    pop = np.random.rand(popsize, dimensions)\n",
    "    min_b, max_b = np.asarray(bounds).T\n",
    "    diff = np.fabs(min_b - max_b)\n",
    "    population = min_b + pop * diff\n",
    "    fitness = np.asarray([fobj(ind) for ind in population])\n",
    "    best_idx = np.argmin(fitness)\n",
    "    best = population[best_idx]\n",
    "    sp = strategy_probability = [0.25] * 4\n",
    "    lp = learning_period = 5\n",
    "    success_memory = np.zeros([lp, 4])\n",
    "    failure_memory = np.zeros([lp, 4])\n",
    "    cr_memory = [[],[],[],[]]\n",
    "    for i in range (lp):\n",
    "        for j in range (popsize):\n",
    "            popj = population[j]\n",
    "            idxs = [idx for idx in range(popsize) if idx != j]\n",
    "            a, b, c, d, e = population[np.random.choice(idxs, 5, replace = False)]\n",
    "            strategy_num = -1\n",
    "            mut = random.gauss(0.5, 0.3)\n",
    "            cr = random.gauss(0.5, 0.1)\n",
    "            if((cr < 0) or (cr > 1)):\n",
    "                cr = random.gauss(0.5, 0.1)\n",
    "            rand_sp = np.random.rand()\n",
    "            if(rand_sp < sp[0]):\n",
    "                strategy_num = 0\n",
    "                trial = rand_1_bin(a, b, c, mut, min_b, max_b, popj, dimensions, cr)\n",
    "            elif(rand_sp < sum(sp[:1])):\n",
    "                strategy_num = 1\n",
    "                trial = rand_to_best_2_bin(a, b, c, d, mut, min_b, max_b, popj, dimensions, best, cr)\n",
    "            elif(rand_sp < sum(sp[:2])):\n",
    "                strategy_num = 2\n",
    "                trial = rand_2_bin(a, b, c, d, e, mut, min_b, max_b, popj, dimensions, cr)\n",
    "            else:\n",
    "                strategy_num = 3\n",
    "                trial = current_to_rand_1_bin(a, b, c, popj, mut, min_b, max_b)\n",
    "            f = fobj(trial)\n",
    "            if f < fitness[j]:\n",
    "                fitness[j] = f\n",
    "                population[j] = trial\n",
    "                cr_memory[strategy_num].append(cr)\n",
    "                success_memory[i, strategy_num] += 1\n",
    "                if f < fitness[best_idx]:\n",
    "                    best_idx = j\n",
    "                    best = trial\n",
    "            else:\n",
    "                failure_memory[i, strategy_num] += 1\n",
    "    cr_average_0 = np.average(cr_memory[0])\n",
    "    cr_average_1 = np.average(cr_memory[1])\n",
    "    cr_average_2 = np.average(cr_memory[2])\n",
    "    cr_average_3 = np.average(cr_memory[3])\n",
    "    for i in range (its):\n",
    "        success_sum = pd.DataFrame(success_memory).sum(axis = 0)\n",
    "        failure_sum = pd.DataFrame(failure_memory).sum(axis = 0)\n",
    "        skg = success_sum / failure_sum + 0.01\n",
    "        sp = skg / sum(skg)\n",
    "        success_memory[(i%lp)] = 0\n",
    "        failure_memory[(i%lp)] = 0\n",
    "        for j in range (popsize):\n",
    "            idxs = [idx for idx in range(popsize) if idx != j]\n",
    "            a, b, c, d, e = population[np.random.choice(idxs, 5, replace = False)]\n",
    "            strategy_num = -1\n",
    "            rand_sp = np.random.rand()\n",
    "            mut = random.gauss(0.5, 0.3)\n",
    "            if(rand_sp < sp[0]):\n",
    "                strategy_num = 0\n",
    "                trial = rand_1_bin(a, b, c, mut, min_b, max_b, popj, dimensions, cr)\n",
    "            elif(rand_sp < sum(sp[:1])):\n",
    "                strategy_num = 1\n",
    "                trial = rand_to_best_2_bin(a, b, c, d, mut, min_b, max_b, popj, dimensions, best, cr)\n",
    "            elif(rand_sp < sum(sp[:2])):\n",
    "                strategy_num = 2\n",
    "                trial = rand_2_bin(a, b, c, d, e, mut, min_b, max_b, popj, dimensions, cr)\n",
    "            else:\n",
    "                strategy_num = 3\n",
    "                trial = current_to_rand_1_bin(a, b, c, popj, mut, min_b, max_b)\n",
    "            f = fobj(trial)\n",
    "            if f < fitness[j]:\n",
    "                fitness[j] = f\n",
    "                population[j] = trial\n",
    "                success_memory[i%lp, strategy_num] += 1\n",
    "                if f < fitness[best_idx]:\n",
    "                    best_idx = j\n",
    "                    best = trial\n",
    "            else:\n",
    "                failure_memory[i%lp, strategy_num] += 1\n",
    "        if(np.fabs(min(fitness) - goal) < 1e-6):\n",
    "            break\n",
    "        yield best, fitness[best_idx]"
   ]
  },
  {
   "cell_type": "code",
   "execution_count": 6,
   "metadata": {},
   "outputs": [],
   "source": [
    "def rand_1_bin(a, b, c, mut, min_b, max_b, popj, dimensions, cr):\n",
    "    mutant = np.clip(a + mut * (b - c), min_b, max_b)\n",
    "    cross_points = np.random.rand(dimensions) < cr\n",
    "    if not np.any(cross_points):\n",
    "        cross_points[np.random.randint(0, dimensions)] = True\n",
    "    trial = np.where(cross_points, mutant, popj)\n",
    "    return trial\n",
    "def rand_to_best_2_bin(a, b, c, d, mut, min_b, max_b, popj, dimensions, best, cr):\n",
    "    mutant = np.clip(popj + mut * (best - popj) + mut * (a - b) + mut * (c - d), min_b, max_b)\n",
    "    cross_points = np.random.rand(dimensions) < cr\n",
    "    if not np.any(cross_points):\n",
    "        cross_points[np.random.randint(0, dimensions)] = True\n",
    "    trial = np.where(cross_points, mutant, popj)\n",
    "    return trial\n",
    "def rand_2_bin(a, b, c, d, e, mut, min_b, max_b, popj, dimensions, cr):\n",
    "    mutant = np.clip(a + mut * (b - c) + mut * (d - e), min_b, max_b)\n",
    "    cross_points = np.random.rand(dimensions) < cr\n",
    "    if not np.any(cross_points):\n",
    "        cross_points[np.random.randint(0, dimensions)] = True\n",
    "    trial = np.where(cross_points, mutant, popj)\n",
    "    return trial\n",
    "def current_to_rand_1_bin(a, b, c, popj, mut, min_b, max_b):\n",
    "    k = np.random.rand()\n",
    "    trial = np.clip(popj + k * (a - popj) + mut * (b - c), min_b, max_b)\n",
    "    return trial"
   ]
  },
  {
   "cell_type": "code",
   "execution_count": 8,
   "metadata": {},
   "outputs": [
    {
     "data": {
      "text/plain": [
       "<generator object sade at 0x000002BEFFC61948>"
      ]
     },
     "execution_count": 8,
     "metadata": {},
     "output_type": "execute_result"
    }
   ],
   "source": [
    "def Rastrigin(x):\n",
    "    return sum(x ** 2 - 10 * np.cos(2 * np.pi * x) + 10)\n",
    "sade(Rastrigin, [(-5.12, 5.12)] * 10, mut = 0.5, cr = 0.9, popsize = 100)"
   ]
  },
  {
   "cell_type": "code",
   "execution_count": 7,
   "metadata": {},
   "outputs": [
    {
     "name": "stdout",
     "output_type": "stream",
     "text": [
      "3\n"
     ]
    }
   ],
   "source": [
    "sp = [1,2,3,4]\n",
    "print(sum(sp[:2]))"
   ]
  },
  {
   "cell_type": "code",
   "execution_count": 15,
   "metadata": {},
   "outputs": [],
   "source": [
    "import numpy as np\n",
    "import matplotlib.pyplot as plt\n",
    "import datetime\n",
    "def de(fobj, bounds, mut=0.5, cr=0.9, popsize=20, its=1000, goal = 0):\n",
    "    dimensions = len(bounds)\n",
    "    pop = np.random.rand(popsize, dimensions)\n",
    "    min_b, max_b = np.asarray(bounds).T\n",
    "    diff = np.fabs(min_b - max_b)\n",
    "    population = min_b + pop * diff\n",
    "    fitness = np.asarray([fobj(ind) for ind in population])\n",
    "    best_idx = np.argmin(fitness)\n",
    "    best = population[best_idx]\n",
    "    for i in range(its):\n",
    "        for j in range(popsize):\n",
    "            idxs = [idx for idx in range(popsize) if idx != j]\n",
    "            a, b, c = population[np.random.choice(idxs, 3, replace = False)]\n",
    "            mutant = np.clip(a + mut * (b - c), min_b, max_b)\n",
    "            cross_points = np.random.rand(dimensions) < cr\n",
    "            if not np.any(cross_points):\n",
    "                cross_points[np.random.randint(0, dimensions)] = True\n",
    "            trial = np.where(cross_points, mutant, population[j])\n",
    "            f = fobj(trial)\n",
    "            if f < fitness[j]:\n",
    "                fitness[j] = f\n",
    "                population[j] = trial\n",
    "                if f < fitness[best_idx]:\n",
    "                    best_idx = j\n",
    "                    best = trial  \n",
    "        if(np.fabs(min(fitness) - goal) < 1e-6):\n",
    "            break\n",
    "        yield best, fitness[best_idx]"
   ]
  },
  {
   "cell_type": "code",
   "execution_count": 7,
   "metadata": {},
   "outputs": [
    {
     "name": "stderr",
     "output_type": "stream",
     "text": [
      "c:\\users\\oliver\\appdata\\local\\programs\\python\\python37\\lib\\site-packages\\numpy\\lib\\function_base.py:380: RuntimeWarning: Mean of empty slice.\n",
      "  avg = a.mean(axis)\n",
      "c:\\users\\oliver\\appdata\\local\\programs\\python\\python37\\lib\\site-packages\\numpy\\core\\_methods.py:170: RuntimeWarning: invalid value encountered in double_scalars\n",
      "  ret = ret.dtype.type(ret / rcount)\n"
     ]
    },
    {
     "name": "stdout",
     "output_type": "stream",
     "text": [
      "(array([ 1.96568188,  0.96343699, -0.06931578,  1.0022518 ,  0.03335026,\n",
      "        0.07340417, -0.03094188, -1.9361066 ,  0.06972806,  0.03864428]), 14.477424335874021)\n"
     ]
    },
    {
     "data": {
      "image/png": "[encoded data removed]",
      "text/plain": [
       "<Figure size 432x288 with 1 Axes>"
      ]
     },
     "metadata": {
      "needs_background": "light"
     },
     "output_type": "display_data"
    }
   ],
   "source": [
    "def Rastrigin(x):\n",
    "    return sum(x ** 2 - 10 * np.cos(2 * np.pi * x) + 10)\n",
    "def Rastrigin_sade():\n",
    "    it = list(sade(Rastrigin, [(-5.12,5.12)] * 10, mut = 0.5, cr = 0.9, popsize = 100, its = 2000))\n",
    "    print(it[-1])\n",
    "    x, f = zip(*it)\n",
    "    plt.plot(f, label='Rastrigin with sade')\n",
    "    plt.yscale('log')\n",
    "    plt.legend()\n",
    "Rastrigin_sade()"
   ]
  },
  {
   "cell_type": "code",
   "execution_count": null,
   "metadata": {},
   "outputs": [],
   "source": []
  }
 ],
 "metadata": {
  "kernelspec": {
   "display_name": "Python 3",
   "language": "python",
   "name": "python3"
  },
  "language_info": {
   "codemirror_mode": {
    "name": "ipython",
    "version": 3
   },
   "file_extension": ".py",
   "mimetype": "text/x-python",
   "name": "python",
   "nbconvert_exporter": "python",
   "pygments_lexer": "ipython3",
   "version": "3.7.9"
  }
 },
 "nbformat": 4,
 "nbformat_minor": 4
}
