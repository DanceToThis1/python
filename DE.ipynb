{
 "cells": [
  {
   "cell_type": "code",
   "execution_count": 1,
   "metadata": {},
   "outputs": [],
   "source": [
    "import numpy as np\n",
    "import matplotlib.pyplot as plt\n",
    "import datetime\n",
    "\n",
    "def de(fobj, bounds, mut=0.5, cr=0.9, popsize=20, its=1000, goal = 0):\n",
    "    dimensions = len(bounds)\n",
    "    pop = np.random.rand(popsize, dimensions)\n",
    "    min_b, max_b = np.asarray(bounds).T\n",
    "    diff = np.fabs(min_b - max_b)\n",
    "    population = min_b + pop * diff\n",
    "    fitness = np.asarray([fobj(ind) for ind in population])\n",
    "    best_idx = np.argmin(fitness)\n",
    "    best = population[best_idx]\n",
    "    for i in range(its):\n",
    "        for j in range(popsize):\n",
    "            idxs = [idx for idx in range(popsize) if idx != j]\n",
    "            a, b, c = population[np.random.choice(idxs, 3, replace = False)]\n",
    "            mutant = np.clip(a + mut * (b - c), min_b, max_b)\n",
    "            cross_points = np.random.rand(dimensions) < cr\n",
    "            if not np.any(cross_points):\n",
    "                cross_points[np.random.randint(0, dimensions)] = True\n",
    "            trial = np.where(cross_points, mutant, population[j])\n",
    "            f = fobj(trial)\n",
    "            if f < fitness[j]:\n",
    "                fitness[j] = f\n",
    "                population[j] = trial\n",
    "                if f < fitness[best_idx]:\n",
    "                    best_idx = j\n",
    "                    best = trial  \n",
    "        if(np.fabs(min(fitness) - goal) < 1e-6):\n",
    "            break\n",
    "        yield best, fitness[best_idx]"
   ]
  },
  {
   "cell_type": "markdown",
   "metadata": {},
   "source": [
    "### 待优化函数 sum(x ** 2 - 10 * cos(2 * np.pi * x) + 10)"
   ]
  },
  {
   "cell_type": "code",
   "execution_count": 3,
   "metadata": {},
   "outputs": [
    {
     "name": "stdout",
     "output_type": "stream",
     "text": [
      "(array([-8.22258417e-06, -5.01551971e-05, -2.36172567e-06, -4.97369988e-07,\n",
      "       -4.64999005e-06, -4.26668701e-05, -3.46401578e-05,  2.69410726e-05,\n",
      "        6.73891146e-06,  9.74815395e-06]), 1.2890060325787545e-06)\n"
     ]
    },
    {
     "data": {
      "image/png": "[encoded data removed]",
      "text/plain": [
       "<Figure size 432x288 with 1 Axes>"
      ]
     },
     "metadata": {
      "needs_background": "light"
     },
     "output_type": "display_data"
    }
   ],
   "source": [
    "def fobj(x):\n",
    "    return sum(x ** 2 - 10 * np.cos(2 * np.pi * x) + 10)\n",
    "\n",
    "def fobj_test():\n",
    "    it = list(de(fobj, [(-10,10)] * 10, mut = 0.5, cr = 0.9, popsize = 100, its = 10000))\n",
    "    print(it[-1])\n",
    "    x, f = zip(*it)\n",
    "    plt.plot(f, label='de')\n",
    "    plt.xscale('log')\n",
    "    plt.yscale('log')\n",
    "    plt.legend() \n",
    "    plt.savefig('sum (xx - 10cos(2 pi x) + 10)优化效果')\n",
    "fobj_test()"
   ]
  },
  {
   "cell_type": "code",
   "execution_count": 26,
   "metadata": {},
   "outputs": [
    {
     "name": "stdout",
     "output_type": "stream",
     "text": [
      "(array([-1.20164323e-09, -1.19488064e-09,  7.95417066e-11, -7.68418218e-10,\n",
      "        1.04719788e-10,  1.45284673e-09, -1.15292131e-09, -4.70500083e-10,\n",
      "       -1.13010756e-09,  7.68899611e-10]), 0.0)\n",
      "0:01:19.207995\n"
     ]
    },
    {
     "data": {
      "image/png": "[encoded data removed]",
      "text/plain": [
       "<Figure size 432x288 with 1 Axes>"
      ]
     },
     "metadata": {
      "needs_background": "light"
     },
     "output_type": "display_data"
    }
   ],
   "source": [
    "start = datetime.datetime.now()\n",
    "fobj_test()\n",
    "end = datetime.datetime.now()\n",
    "print(end - start)"
   ]
  },
  {
   "cell_type": "markdown",
   "metadata": {},
   "source": [
    "### 修改参数对于函数优化有什么影响"
   ]
  },
  {
   "cell_type": "code",
   "execution_count": 19,
   "metadata": {},
   "outputs": [],
   "source": [
    "# for mut in (0.3, 0.5, 0.9):\n",
    "#     it = list(de(fobj, [(-10, 10)] * 10, mut = mut , its=10000))    \n",
    "#     x, f = zip(*it)\n",
    "#     plt.plot(f, label='mut={}'.format(mut))\n",
    "#     plt.xscale('log')\n",
    "#     plt.yscale('log')\n",
    "    \n",
    "# for cr in (0.1, 0.3, 0.9):\n",
    "#     it = list(de(fobj, [(-10, 10)] * 10, cr = cr , its=10000))    \n",
    "#     x, f = zip(*it)\n",
    "#     plt.plot(f, label='cr={}'.format(cr))\n",
    "#     plt.xscale('log')\n",
    "#     plt.yscale('log')\n",
    "    \n",
    "# for popsize1 in (20, 50, 100):\n",
    "#     it = list(de(fobj, [(-10, 10)] * 10, popsize = popsize1 , its=10000))    \n",
    "#     x, f = zip(*it)\n",
    "#     plt.plot(f, label='popsize={}'.format(popsize1))\n",
    "#     plt.xscale('log')\n",
    "#     plt.yscale('log')"
   ]
  },
  {
   "cell_type": "markdown",
   "metadata": {},
   "source": [
    "### 待优化函数3（cos xy）+ x + y"
   ]
  },
  {
   "cell_type": "code",
   "execution_count": 25,
   "metadata": {},
   "outputs": [
    {
     "name": "stdout",
     "output_type": "stream",
     "text": [
      "(array([-3.94824346, -4.        ]), -10.937409790793282)\n",
      "0:00:00.221963\n"
     ]
    },
    {
     "data": {
      "image/png": "[encoded data removed]",
      "text/plain": [
       "<Figure size 432x288 with 1 Axes>"
      ]
     },
     "metadata": {
      "needs_background": "light"
     },
     "output_type": "display_data"
    }
   ],
   "source": [
    "def fobj1(x):\n",
    "    xy = 1\n",
    "    for i in x:\n",
    "        xy *= i\n",
    "    return 3 * np.cos(xy) + sum(x)\n",
    "\n",
    "def fobj_test1():\n",
    "    it = list(de(fobj1, [(-4,4)] * 2, mut = 0.5, cr = 0.1, its = 100))\n",
    "    print(it[-1])\n",
    "    x, f = zip(*it)\n",
    "    plt.plot(f, label='de')\n",
    "    plt.legend() \n",
    "    plt.savefig('3（cos xy）+ x + y 优化效果')\n",
    "start = datetime.datetime.now()\n",
    "fobj_test1()\n",
    "end = datetime.datetime.now()\n",
    "print(end - start)"
   ]
  },
  {
   "cell_type": "code",
   "execution_count": null,
   "metadata": {},
   "outputs": [],
   "source": []
  },
  {
   "cell_type": "markdown",
   "metadata": {},
   "source": [
    "### 待优化函数 sum（100 ( Xi+1 - Xi * Xi ) **2 + ( 1 - Xi ) **2 )"
   ]
  },
  {
   "cell_type": "markdown",
   "metadata": {},
   "source": [
    "IDE\n",
    "只改进变异策略：\n",
    "基于DE/target-to-best/1: $$V_{i,G}=X_{i,G}+F(X_{best,G}-X_{i,G})+F(X_{r1,G}-X_{r2,G})$$的改进，方法是采用一个随机个体和前面的最佳个体pbest代替当前个体Xi和最佳个体Xbest, 改进的方法描述如下:$$V_{i,G}=X_{r1,G}+F(pbest_{i,G}-X_{i,G})+F(X_{r2,G}-X_{r3,G})$$,其中r1,r2,r3为1-np中三个不同的随机整数，$pbest_i$为前面个体$X_i$的最佳个体。"
   ]
  },
  {
   "cell_type": "code",
   "execution_count": null,
   "metadata": {},
   "outputs": [],
   "source": []
  }
 ],
 "metadata": {
  "kernelspec": {
   "display_name": "Python 3",
   "language": "python",
   "name": "python3"
  },
  "language_info": {
   "codemirror_mode": {
    "name": "ipython",
    "version": 3
   },
   "file_extension": ".py",
   "mimetype": "text/x-python",
   "name": "python",
   "nbconvert_exporter": "python",
   "pygments_lexer": "ipython3",
   "version": "3.7.9"
  }
 },
 "nbformat": 4,
 "nbformat_minor": 4
}
